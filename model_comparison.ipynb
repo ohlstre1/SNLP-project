{
 "cells": [
  {
   "cell_type": "code",
   "execution_count": 30,
   "metadata": {},
   "outputs": [],
   "source": [
    "#!pip install ipywidgets\n",
    "import torch\n",
    "import numpy as np\n",
    "import pandas as pd\n",
    "import torch.nn as nn\n",
    "import re\n",
    "import emoji\n",
    "import matplotlib.pyplot as plt\n",
    "from sklearn.metrics import accuracy_score, precision_score, recall_score, f1_score, confusion_matrix, ConfusionMatrixDisplay\n",
    "from torch.utils.data import Dataset\n",
    "\n",
    "from gensim.parsing.preprocessing import STOPWORDS\n",
    "from nltk.tokenize import word_tokenize\n",
    "from string import punctuation\n",
    "from keras.preprocessing.sequence import pad_sequences"
   ]
  },
  {
   "cell_type": "code",
   "execution_count": 92,
   "metadata": {},
   "outputs": [
    {
     "name": "stdout",
     "output_type": "stream",
     "text": [
      "1.2.2\n"
     ]
    }
   ],
   "source": [
    "import sklearn\n",
    "\n",
    "sklearn_version = sklearn.__version__\n",
    "print(sklearn_version)\n"
   ]
  },
  {
   "cell_type": "code",
   "execution_count": 31,
   "metadata": {},
   "outputs": [
    {
     "name": "stdout",
     "output_type": "stream",
     "text": [
      "Using cpu device\n"
     ]
    }
   ],
   "source": [
    "# Adapted from https://www.kaggle.com/code/chayan8/sentiment-analysis-using-bert-pytorch\n",
    "device = torch.device(\"cuda\" if torch.cuda.is_available() else \"cpu\")\n",
    "print(f\"Using {device} device\")"
   ]
  },
  {
   "cell_type": "markdown",
   "metadata": {},
   "source": [
    "# LSTM"
   ]
  },
  {
   "cell_type": "code",
   "execution_count": 32,
   "metadata": {},
   "outputs": [],
   "source": [
    "def hashtag(text):\n",
    "  FLAGS = re.MULTILINE | re.DOTALL\n",
    "  text = text.group()\n",
    "  hashtag_body = text[1:]\n",
    "  if hashtag_body.isupper():\n",
    "      result = \"<hashtag> {} <allcaps>\".format(hashtag_body.lower())\n",
    "  else:\n",
    "      result = \" \".join([\"<hashtag>\"] + re.split(r\"(?=[A-Z])\", hashtag_body, flags=FLAGS))\n",
    "  return result\n",
    "\n",
    "def allcaps(text):\n",
    "    text = text.group()\n",
    "    return text.lower() + \" <allcaps> \" \n",
    "\n",
    "def clean_data(text):\n",
    "  FLAGS = re.MULTILINE | re.DOTALL\n",
    "  eyes = r\"[8:=;]\"\n",
    "  nose = r\"['`\\-]?\"\n",
    "  def re_sub(pattern, repl):\n",
    "      return re.sub(pattern, repl, text, flags=FLAGS)\n",
    "\n",
    "  text = emoji.demojize(text)\n",
    "  text = re_sub(r\"https?:\\/\\/\\S+\\b|www\\.(\\w+\\.)+\\S*\", \"<url>\")\n",
    "  text = re_sub(r\"@\\w+\", \"<user>\")\n",
    "  text = re_sub(r\"{}{}[)dD]+|[)dD]+{}{}\".format(eyes, nose, nose, eyes), \"<smile>\")\n",
    "  text = re_sub(r\"{}{}p+\".format(eyes, nose), \"<lolface>\")\n",
    "  text = re_sub(r\"{}{}\\(+|\\)+{}{}\".format(eyes, nose, nose, eyes), \"<sadface>\")\n",
    "  text = re_sub(r\"{}{}[\\/|l*]\".format(eyes, nose), \"<neutralface>\")\n",
    "  text = re_sub(r\"/\",\" / \")\n",
    "  text = re_sub(r\"<3\",\"<heart>\")\n",
    "  text = re_sub(r\"[-+]?[.\\d]*[\\d]+[:,.\\d]*\", \"<number>\")\n",
    "  text = re_sub(r\"#\\w+\", hashtag)\n",
    "  text = re_sub(r\"([!?.]){2,}\", r\"\\1 <repeat>\")\n",
    "  text = re_sub(r\"\\b(\\S*?)(.)\\2{2,}\\b\", r\"\\1\\2 <elong>\")\n",
    "\n",
    "  text = re_sub(r\"([a-zA-Z<>()])([?!.:;,])\", r\"\\1 \\2\")\n",
    "  text = re_sub(r\"\\(([a-zA-Z<>]+)\\)\", r\"( \\1 )\")\n",
    "  text = re_sub(r\"  \", r\" \")\n",
    "  text = re_sub(r\" ([A-Z]){2,} \", allcaps)\n",
    "  text = word_tokenize(text.lower())\n",
    "  text = [token for token in text if token not in punctuation and token not in STOPWORDS]\n",
    "  return text\n",
    "\n",
    "def preprocessing_tweet(tweet_df):\n",
    "  temp_list= []\n",
    "  for t in tweet_df['text']:\n",
    "    temp_list.append(clean_data(t))\n",
    "  tweet_df['clean_text'] = temp_list\n",
    "  return tweet_df"
   ]
  },
  {
   "cell_type": "code",
   "execution_count": 33,
   "metadata": {},
   "outputs": [],
   "source": [
    "train_df = pd.read_csv(\"data/train_2024.csv\", quoting=3)\n",
    "test_df = pd.read_csv(\"data/dev_2024.csv\", quoting=3)\n",
    "eval_df = pd.read_csv(\"data/test_2024.csv\", quoting=3)"
   ]
  },
  {
   "cell_type": "code",
   "execution_count": 34,
   "metadata": {},
   "outputs": [
    {
     "data": {
      "text/html": [
       "<div>\n",
       "<style scoped>\n",
       "    .dataframe tbody tr th:only-of-type {\n",
       "        vertical-align: middle;\n",
       "    }\n",
       "\n",
       "    .dataframe tbody tr th {\n",
       "        vertical-align: top;\n",
       "    }\n",
       "\n",
       "    .dataframe thead th {\n",
       "        text-align: right;\n",
       "    }\n",
       "</style>\n",
       "<table border=\"1\" class=\"dataframe\">\n",
       "  <thead>\n",
       "    <tr style=\"text-align: right;\">\n",
       "      <th></th>\n",
       "      <th>id</th>\n",
       "      <th>text</th>\n",
       "      <th>label</th>\n",
       "      <th>clean_text</th>\n",
       "    </tr>\n",
       "  </thead>\n",
       "  <tbody>\n",
       "    <tr>\n",
       "      <th>0</th>\n",
       "      <td>0</td>\n",
       "      <td>Except that Desmond played first base last nig...</td>\n",
       "      <td>0</td>\n",
       "      <td>[desmond, played, base, night, tapia, lf, allc...</td>\n",
       "    </tr>\n",
       "    <tr>\n",
       "      <th>1</th>\n",
       "      <td>1</td>\n",
       "      <td>What i find funny is the loyalty and blindness...</td>\n",
       "      <td>0</td>\n",
       "      <td>[funny, loyalty, blindness, english, community...</td>\n",
       "    </tr>\n",
       "    <tr>\n",
       "      <th>2</th>\n",
       "      <td>2</td>\n",
       "      <td>Read the article  not just the headline &amp; you ...</td>\n",
       "      <td>0</td>\n",
       "      <td>[read, article, headline]</td>\n",
       "    </tr>\n",
       "    <tr>\n",
       "      <th>3</th>\n",
       "      <td>3</td>\n",
       "      <td>Speaking of a horses backside  is that where y...</td>\n",
       "      <td>1</td>\n",
       "      <td>[speaking, horses, backside, head]</td>\n",
       "    </tr>\n",
       "    <tr>\n",
       "      <th>4</th>\n",
       "      <td>4</td>\n",
       "      <td>Michael Barone- gee are you dumb.  No other wo...</td>\n",
       "      <td>1</td>\n",
       "      <td>[michael, barone-, gee, dumb, words, needed]</td>\n",
       "    </tr>\n",
       "  </tbody>\n",
       "</table>\n",
       "</div>"
      ],
      "text/plain": [
       "   id                                               text  label  \\\n",
       "0   0  Except that Desmond played first base last nig...      0   \n",
       "1   1  What i find funny is the loyalty and blindness...      0   \n",
       "2   2  Read the article  not just the headline & you ...      0   \n",
       "3   3  Speaking of a horses backside  is that where y...      1   \n",
       "4   4  Michael Barone- gee are you dumb.  No other wo...      1   \n",
       "\n",
       "                                          clean_text  \n",
       "0  [desmond, played, base, night, tapia, lf, allc...  \n",
       "1  [funny, loyalty, blindness, english, community...  \n",
       "2                          [read, article, headline]  \n",
       "3                 [speaking, horses, backside, head]  \n",
       "4       [michael, barone-, gee, dumb, words, needed]  "
      ]
     },
     "execution_count": 34,
     "metadata": {},
     "output_type": "execute_result"
    }
   ],
   "source": [
    "train_df = preprocessing_tweet(train_df)\n",
    "test_df = preprocessing_tweet(test_df)\n",
    "eval_df['label'] = 0\n",
    "eval_df = preprocessing_tweet(eval_df)\n",
    "\n",
    "train_df.head()"
   ]
  },
  {
   "cell_type": "code",
   "execution_count": 35,
   "metadata": {},
   "outputs": [],
   "source": [
    "from collections import Counter\n",
    "\n",
    "vocab = {}\n",
    "word_freq = Counter()\n",
    "\n",
    "# Count word frequencies and build vocab\n",
    "for tweet in train_df[\"clean_text\"]:\n",
    "    for word in tweet:\n",
    "        word_freq[word] += 1\n",
    "\n",
    "# Assign indices to words based on frequency\n",
    "vocab_index = 1\n",
    "for word, freq in word_freq.items():\n",
    "    vocab[word] = vocab_index\n",
    "    vocab_index += 1\n",
    "\n",
    "# Add 'UNK' for unknown words\n",
    "vocab['UNK'] = len(vocab) + 1"
   ]
  },
  {
   "cell_type": "code",
   "execution_count": 36,
   "metadata": {},
   "outputs": [],
   "source": [
    "vocab = {}\n",
    "reverse_vocab = {}\n",
    "vocab_index = 1\n",
    "for tweet in train_df[\"clean_text\"]:\n",
    "    for word in tweet:\n",
    "        if word not in vocab:\n",
    "            vocab[word] = vocab_index\n",
    "            vocab_index += 1\n",
    "vocab['UNK'] = len(vocab) + 1"
   ]
  },
  {
   "cell_type": "code",
   "execution_count": 37,
   "metadata": {},
   "outputs": [],
   "source": [
    "def gen_seq(df):\n",
    "    x = []\n",
    "    for tweet in df[\"clean_text\"]:\n",
    "        seq = []\n",
    "        for word in tweet:\n",
    "            seq.append(vocab.get(word, vocab['UNK']))\n",
    "        x.append(seq)\n",
    "    df[\"seq\"] = x\n",
    "\n",
    "gen_seq(train_df)\n",
    "gen_seq(test_df)\n",
    "gen_seq(eval_df)"
   ]
  },
  {
   "cell_type": "code",
   "execution_count": 38,
   "metadata": {},
   "outputs": [
    {
     "name": "stdout",
     "output_type": "stream",
     "text": [
      "308\n"
     ]
    }
   ],
   "source": [
    "max_seq_length = train_df['seq'].apply(len).max()\n",
    "print(max_seq_length)\n",
    "pad_length = 64\n",
    "\n",
    "train_df['seq_padded'] = train_df['seq'].apply(lambda x: pad_sequences([x], padding='post', maxlen=pad_length)).str[0]\n",
    "test_df['seq_padded'] = test_df['seq'].apply(lambda x: pad_sequences([x], padding='post', maxlen=pad_length)).str[0]\n",
    "eval_df['seq_padded'] = eval_df['seq'].apply(lambda x: pad_sequences([x], padding='post', maxlen=pad_length)).str[0]"
   ]
  },
  {
   "cell_type": "code",
   "execution_count": 39,
   "metadata": {},
   "outputs": [],
   "source": [
    "class CustomDataset(Dataset):\n",
    "    def __init__(self, dataframe):\n",
    "        self.dataframe = dataframe\n",
    "\n",
    "    def __len__(self):\n",
    "        return len(self.dataframe)\n",
    "\n",
    "    def __getitem__(self, idx):\n",
    "        sequence = self.dataframe.iloc[idx]['seq_padded']\n",
    "        label = self.dataframe.iloc[idx]['label']\n",
    "        return torch.tensor(sequence), torch.tensor(label)\n",
    "\n",
    "trainset = CustomDataset(train_df)\n",
    "testset = CustomDataset(test_df)\n",
    "evalset = CustomDataset(eval_df)\n",
    "\n",
    "batch_size = 1\n",
    "trainloader = torch.utils.data.DataLoader(trainset, batch_size=batch_size, shuffle=False)\n",
    "testloader = torch.utils.data.DataLoader(testset, batch_size=batch_size, shuffle=False)\n",
    "evalloader = torch.utils.data.DataLoader(evalset, batch_size=batch_size, shuffle=False)"
   ]
  },
  {
   "cell_type": "code",
   "execution_count": 40,
   "metadata": {},
   "outputs": [],
   "source": [
    "def load_model(model, filename, device):\n",
    "    model.load_state_dict(torch.load(filename, map_location=lambda storage, loc: storage))\n",
    "    print('Model loaded from %s.' % filename)\n",
    "    model.to(device)\n",
    "    model.eval()"
   ]
  },
  {
   "cell_type": "code",
   "execution_count": 41,
   "metadata": {},
   "outputs": [],
   "source": [
    "class LSTMModel(nn.Module):\n",
    "    def __init__(self, embedding_dim):\n",
    "        super(LSTMModel, self).__init__()\n",
    "        self.hidden_dim = 100 # 256\n",
    "        self.no_layers = 2 # 2\n",
    "        self.embedding = nn.Embedding(num_embeddings=len(vocab)+1, embedding_dim=embedding_dim)\n",
    "        self.lstm = nn.LSTM(input_size=embedding_dim, hidden_size=self.hidden_dim, num_layers=self.no_layers, batch_first = True)\n",
    "        self.dropout = nn.Dropout(0.5)\n",
    "        self.fc = nn.Linear(in_features=self.hidden_dim, out_features=1)\n",
    "        self.sigmoid = nn.Sigmoid()\n",
    "\n",
    "    def forward(self, x, hidden):\n",
    "        batch_sz = x.shape[0]\n",
    "        x = self.embedding(x)\n",
    "        x, hidden = self.lstm(x, hidden)\n",
    "        x = x.contiguous().view(-1, self.hidden_dim)\n",
    "        # Assuming we only care about the output of the last time step\n",
    "        x = self.dropout(x)\n",
    "        x = self.fc(x)\n",
    "        x = self.sigmoid(x)\n",
    "        x = x.view(batch_sz, -1)\n",
    "        x = x[:, -1]\n",
    "        return x, hidden\n",
    "    def init_hidden(self, batch_size):\n",
    "        ''' Initializes hidden state '''\n",
    "        # Create two new tensors with sizes n_layers x batch_size x hidden_dim,\n",
    "        # initialized to zero, for hidden state and cell state of LSTM\n",
    "        h0 = torch.zeros((self.no_layers,batch_size,self.hidden_dim)).to(device)\n",
    "        c0 = torch.zeros((self.no_layers,batch_size,self.hidden_dim)).to(device)\n",
    "        hidden = (h0,c0)\n",
    "        return hidden"
   ]
  },
  {
   "cell_type": "code",
   "execution_count": 42,
   "metadata": {},
   "outputs": [
    {
     "data": {
      "text/plain": [
       "LSTMModel(\n",
       "  (embedding): Embedding(78560, 64)\n",
       "  (lstm): LSTM(64, 100, num_layers=2, batch_first=True)\n",
       "  (dropout): Dropout(p=0.5, inplace=False)\n",
       "  (fc): Linear(in_features=100, out_features=1, bias=True)\n",
       "  (sigmoid): Sigmoid()\n",
       ")"
      ]
     },
     "execution_count": 42,
     "metadata": {},
     "output_type": "execute_result"
    }
   ],
   "source": [
    "lstm_model = LSTMModel(pad_length)\n",
    "lstm_model.to(device)"
   ]
  },
  {
   "cell_type": "code",
   "execution_count": 43,
   "metadata": {},
   "outputs": [
    {
     "name": "stdout",
     "output_type": "stream",
     "text": [
      "Model loaded from lstm.pth.\n"
     ]
    },
    {
     "data": {
      "text/plain": [
       "5175141"
      ]
     },
     "execution_count": 43,
     "metadata": {},
     "output_type": "execute_result"
    }
   ],
   "source": [
    "load_model(lstm_model, 'model/lstm.pth', device)\n",
    "sum(p.numel() for p in lstm_model.parameters() if p.requires_grad)"
   ]
  },
  {
   "cell_type": "code",
   "execution_count": 44,
   "metadata": {},
   "outputs": [],
   "source": [
    "lstm_train_pred = []\n",
    "lstm_test_pred = []\n",
    "lstm_eval_pred = []\n",
    "\n",
    "h = lstm_model.init_hidden(batch_size)\n",
    "for data in trainloader:\n",
    "    x_train, _ = data\n",
    "    x_train = x_train.to(device)\n",
    "    y_pred = lstm_model.forward(x_train, h)[0][0]\n",
    "    lstm_train_pred.append(y_pred.cpu().data.numpy().item())\n",
    "\n",
    "for data in testloader:\n",
    "    x_test, _ = data\n",
    "    x_test = x_test.to(device)\n",
    "    y_pred = lstm_model.forward(x_test, h)[0][0]\n",
    "    lstm_test_pred.append(y_pred.cpu().data.numpy().item())\n",
    "\n",
    "for data in evalloader:\n",
    "    x_val, _ = data\n",
    "    x_val = x_val.to(device)\n",
    "    y_pred = lstm_model.forward(x_val, h)[0][0]\n",
    "    lstm_eval_pred.append(y_pred.cpu().data.numpy().item())"
   ]
  },
  {
   "cell_type": "code",
   "execution_count": 45,
   "metadata": {},
   "outputs": [],
   "source": [
    "lstm_train_pred = [np.round(y) for y in lstm_train_pred]\n",
    "lstm_test_pred = [np.round(y) for y in lstm_test_pred]\n",
    "lstm_eval_pred = [np.round(y) for y in lstm_eval_pred]"
   ]
  },
  {
   "cell_type": "code",
   "execution_count": 46,
   "metadata": {},
   "outputs": [
    {
     "name": "stdout",
     "output_type": "stream",
     "text": [
      "Train accuracy: 0.9592424242424242\n",
      "Train precision: 0.9590287898369401\n",
      "Train recall: 0.9319918764363209\n",
      "Train F1 score: 0.9453170526772282\n"
     ]
    },
    {
     "data": {
      "image/png": "[encoded data removed]",
      "text/plain": [
       "<Figure size 640x480 with 2 Axes>"
      ]
     },
     "metadata": {},
     "output_type": "display_data"
    }
   ],
   "source": [
    "lstm_y_train = train_df['label'].tolist()\n",
    "\n",
    "print(\"Train accuracy:\", accuracy_score(lstm_train_pred, lstm_y_train))\n",
    "print(\"Train precision:\", precision_score(lstm_train_pred, lstm_y_train))\n",
    "print(\"Train recall:\", recall_score(lstm_train_pred, lstm_y_train))\n",
    "print(\"Train F1 score:\", f1_score(lstm_train_pred, lstm_y_train))\n",
    "conf_mat = confusion_matrix(lstm_y_train, lstm_train_pred)\n",
    "disp = ConfusionMatrixDisplay(confusion_matrix=conf_mat)\n",
    "disp.plot()\n",
    "plt.show()"
   ]
  },
  {
   "cell_type": "code",
   "execution_count": 47,
   "metadata": {},
   "outputs": [
    {
     "name": "stdout",
     "output_type": "stream",
     "text": [
      "Test accuracy: 0.9161818181818182\n",
      "Test precision: 0.9027882441597589\n",
      "Test recall: 0.8704286752240252\n",
      "Test F1 score: 0.8863131935881627\n"
     ]
    },
    {
     "data": {
      "image/png": "[encoded data removed]",
      "text/plain": [
       "<Figure size 640x480 with 2 Axes>"
      ]
     },
     "metadata": {},
     "output_type": "display_data"
    }
   ],
   "source": [
    "lstm_y_test = test_df['label'].tolist()\n",
    "\n",
    "print(\"Test accuracy:\", accuracy_score(lstm_test_pred, lstm_y_test))\n",
    "print(\"Test precision:\", precision_score(lstm_test_pred, lstm_y_test))\n",
    "print(\"Test recall:\", recall_score(lstm_test_pred, lstm_y_test))\n",
    "print(\"Test F1 score:\", f1_score(lstm_test_pred, lstm_y_test))\n",
    "conf_mat = confusion_matrix(lstm_y_test, lstm_test_pred)\n",
    "disp = ConfusionMatrixDisplay(confusion_matrix=conf_mat)\n",
    "disp.plot()\n",
    "plt.show()"
   ]
  },
  {
   "cell_type": "code",
   "execution_count": 48,
   "metadata": {},
   "outputs": [],
   "source": [
    "differing_indices = [i for i, (x, y) in enumerate(zip(lstm_test_pred, lstm_y_test)) if x != y]"
   ]
  },
  {
   "cell_type": "code",
   "execution_count": 49,
   "metadata": {},
   "outputs": [
    {
     "data": {
      "text/html": [
       "<div>\n",
       "<style scoped>\n",
       "    .dataframe tbody tr th:only-of-type {\n",
       "        vertical-align: middle;\n",
       "    }\n",
       "\n",
       "    .dataframe tbody tr th {\n",
       "        vertical-align: top;\n",
       "    }\n",
       "\n",
       "    .dataframe thead th {\n",
       "        text-align: right;\n",
       "    }\n",
       "</style>\n",
       "<table border=\"1\" class=\"dataframe\">\n",
       "  <thead>\n",
       "    <tr style=\"text-align: right;\">\n",
       "      <th></th>\n",
       "      <th>text</th>\n",
       "      <th>label</th>\n",
       "    </tr>\n",
       "  </thead>\n",
       "  <tbody>\n",
       "    <tr>\n",
       "      <th>31</th>\n",
       "      <td>���I ain���t drunk.��� ���Then you���re mad; t...</td>\n",
       "      <td>1</td>\n",
       "    </tr>\n",
       "    <tr>\n",
       "      <th>49</th>\n",
       "      <td>Mm. That tastes like balls.</td>\n",
       "      <td>0</td>\n",
       "    </tr>\n",
       "    <tr>\n",
       "      <th>51</th>\n",
       "      <td>Do you fell better now  ready to put the pacif...</td>\n",
       "      <td>1</td>\n",
       "    </tr>\n",
       "    <tr>\n",
       "      <th>61</th>\n",
       "      <td>Wow. What a hateful person you seem to be. I t...</td>\n",
       "      <td>1</td>\n",
       "    </tr>\n",
       "    <tr>\n",
       "      <th>62</th>\n",
       "      <td>Except for Alaska were the USA has used F-16s ...</td>\n",
       "      <td>0</td>\n",
       "    </tr>\n",
       "    <tr>\n",
       "      <th>...</th>\n",
       "      <td>...</td>\n",
       "      <td>...</td>\n",
       "    </tr>\n",
       "    <tr>\n",
       "      <th>10917</th>\n",
       "      <td>These are Ossoff's peeps.  He should embrace t...</td>\n",
       "      <td>1</td>\n",
       "    </tr>\n",
       "    <tr>\n",
       "      <th>10935</th>\n",
       "      <td>First: Chunky Punk could never out run anyone ...</td>\n",
       "      <td>1</td>\n",
       "    </tr>\n",
       "    <tr>\n",
       "      <th>10965</th>\n",
       "      <td>He’s just a dirty peasant who doesn’t know any...</td>\n",
       "      <td>1</td>\n",
       "    </tr>\n",
       "    <tr>\n",
       "      <th>10984</th>\n",
       "      <td>Aw come on  we all know there's no way in hell...</td>\n",
       "      <td>0</td>\n",
       "    </tr>\n",
       "    <tr>\n",
       "      <th>10996</th>\n",
       "      <td>There was a LOT more to that story - especiall...</td>\n",
       "      <td>0</td>\n",
       "    </tr>\n",
       "  </tbody>\n",
       "</table>\n",
       "<p>922 rows × 2 columns</p>\n",
       "</div>"
      ],
      "text/plain": [
       "                                                    text  label\n",
       "31     ���I ain���t drunk.��� ���Then you���re mad; t...      1\n",
       "49                           Mm. That tastes like balls.      0\n",
       "51     Do you fell better now  ready to put the pacif...      1\n",
       "61     Wow. What a hateful person you seem to be. I t...      1\n",
       "62     Except for Alaska were the USA has used F-16s ...      0\n",
       "...                                                  ...    ...\n",
       "10917  These are Ossoff's peeps.  He should embrace t...      1\n",
       "10935  First: Chunky Punk could never out run anyone ...      1\n",
       "10965  He’s just a dirty peasant who doesn’t know any...      1\n",
       "10984  Aw come on  we all know there's no way in hell...      0\n",
       "10996  There was a LOT more to that story - especiall...      0\n",
       "\n",
       "[922 rows x 2 columns]"
      ]
     },
     "execution_count": 49,
     "metadata": {},
     "output_type": "execute_result"
    }
   ],
   "source": [
    "test_df[[\"text\", \"label\"]].iloc[differing_indices]"
   ]
  },
  {
   "cell_type": "markdown",
   "metadata": {},
   "source": [
    "# CNN"
   ]
  },
  {
   "cell_type": "code",
   "execution_count": 50,
   "metadata": {},
   "outputs": [],
   "source": [
    "def hashtag(text):\n",
    "  FLAGS = re.MULTILINE | re.DOTALL\n",
    "  text = text.group()\n",
    "  hashtag_body = text[1:]\n",
    "  if hashtag_body.isupper():\n",
    "      result = \"<hashtag> {} <allcaps>\".format(hashtag_body.lower())\n",
    "  else:\n",
    "      result = \" \".join([\"<hashtag>\"] + re.split(r\"(?=[A-Z])\", hashtag_body, flags=FLAGS))\n",
    "  return result\n",
    "\n",
    "def allcaps(text):\n",
    "    text = text.group()\n",
    "    return text.lower() + \" <allcaps> \" \n",
    "\n",
    "def clean_data(text):\n",
    "  FLAGS = re.MULTILINE | re.DOTALL\n",
    "  eyes = r\"[8:=;]\"\n",
    "  nose = r\"['`\\-]?\"\n",
    "  def re_sub(pattern, repl):\n",
    "      return re.sub(pattern, repl, text, flags=FLAGS)\n",
    "\n",
    "  text = emoji.demojize(text)\n",
    "  text = re_sub(r\"https?:\\/\\/\\S+\\b|www\\.(\\w+\\.)+\\S*\", \"<url>\")\n",
    "  text = re_sub(r\"@\\w+\", \"<user>\")\n",
    "  text = re_sub(r\"{}{}[)dD]+|[)dD]+{}{}\".format(eyes, nose, nose, eyes), \"<smile>\")\n",
    "  text = re_sub(r\"{}{}p+\".format(eyes, nose), \"<lolface>\")\n",
    "  text = re_sub(r\"{}{}\\(+|\\)+{}{}\".format(eyes, nose, nose, eyes), \"<sadface>\")\n",
    "  text = re_sub(r\"{}{}[\\/|l*]\".format(eyes, nose), \"<neutralface>\")\n",
    "  text = re_sub(r\"/\",\" / \")\n",
    "  text = re_sub(r\"<3\",\"<heart>\")\n",
    "  text = re_sub(r\"[-+]?[.\\d]*[\\d]+[:,.\\d]*\", \"<number>\")\n",
    "  text = re_sub(r\"#\\w+\", hashtag)\n",
    "  text = re_sub(r\"([!?.]){2,}\", r\"\\1 <repeat>\")\n",
    "  text = re_sub(r\"\\b(\\S*?)(.)\\2{2,}\\b\", r\"\\1\\2 <elong>\")\n",
    "\n",
    "  text = re_sub(r\"([a-zA-Z<>()])([?!.:;,])\", r\"\\1 \\2\")\n",
    "  text = re_sub(r\"\\(([a-zA-Z<>]+)\\)\", r\"( \\1 )\")\n",
    "  text = re_sub(r\"  \", r\" \")\n",
    "  text = re_sub(r\" ([A-Z]){2,} \", allcaps)\n",
    "  text = word_tokenize(text.lower())\n",
    "  text = [token for token in text if token not in punctuation and token not in STOPWORDS]\n",
    "  return text\n",
    "\n",
    "def preprocessing_tweet(tweet_df):\n",
    "  temp_list= []\n",
    "  for t in tweet_df['text']:\n",
    "    temp_list.append(clean_data(t))\n",
    "  tweet_df['clean_text'] = temp_list\n",
    "  return tweet_df"
   ]
  },
  {
   "cell_type": "code",
   "execution_count": 51,
   "metadata": {},
   "outputs": [],
   "source": [
    "train_df = pd.read_csv(\"data/train_2024.csv\", quoting=3)\n",
    "test_df = pd.read_csv(\"data/dev_2024.csv\", quoting=3)\n",
    "eval_df = pd.read_csv(\"data/test_2024.csv\", quoting=3)"
   ]
  },
  {
   "cell_type": "code",
   "execution_count": 52,
   "metadata": {},
   "outputs": [
    {
     "data": {
      "text/html": [
       "<div>\n",
       "<style scoped>\n",
       "    .dataframe tbody tr th:only-of-type {\n",
       "        vertical-align: middle;\n",
       "    }\n",
       "\n",
       "    .dataframe tbody tr th {\n",
       "        vertical-align: top;\n",
       "    }\n",
       "\n",
       "    .dataframe thead th {\n",
       "        text-align: right;\n",
       "    }\n",
       "</style>\n",
       "<table border=\"1\" class=\"dataframe\">\n",
       "  <thead>\n",
       "    <tr style=\"text-align: right;\">\n",
       "      <th></th>\n",
       "      <th>id</th>\n",
       "      <th>text</th>\n",
       "      <th>label</th>\n",
       "      <th>clean_text</th>\n",
       "    </tr>\n",
       "  </thead>\n",
       "  <tbody>\n",
       "    <tr>\n",
       "      <th>0</th>\n",
       "      <td>0</td>\n",
       "      <td>Except that Desmond played first base last nig...</td>\n",
       "      <td>0</td>\n",
       "      <td>[desmond, played, base, night, tapia, lf, allc...</td>\n",
       "    </tr>\n",
       "    <tr>\n",
       "      <th>1</th>\n",
       "      <td>1</td>\n",
       "      <td>What i find funny is the loyalty and blindness...</td>\n",
       "      <td>0</td>\n",
       "      <td>[funny, loyalty, blindness, english, community...</td>\n",
       "    </tr>\n",
       "    <tr>\n",
       "      <th>2</th>\n",
       "      <td>2</td>\n",
       "      <td>Read the article  not just the headline &amp; you ...</td>\n",
       "      <td>0</td>\n",
       "      <td>[read, article, headline]</td>\n",
       "    </tr>\n",
       "    <tr>\n",
       "      <th>3</th>\n",
       "      <td>3</td>\n",
       "      <td>Speaking of a horses backside  is that where y...</td>\n",
       "      <td>1</td>\n",
       "      <td>[speaking, horses, backside, head]</td>\n",
       "    </tr>\n",
       "    <tr>\n",
       "      <th>4</th>\n",
       "      <td>4</td>\n",
       "      <td>Michael Barone- gee are you dumb.  No other wo...</td>\n",
       "      <td>1</td>\n",
       "      <td>[michael, barone-, gee, dumb, words, needed]</td>\n",
       "    </tr>\n",
       "  </tbody>\n",
       "</table>\n",
       "</div>"
      ],
      "text/plain": [
       "   id                                               text  label  \\\n",
       "0   0  Except that Desmond played first base last nig...      0   \n",
       "1   1  What i find funny is the loyalty and blindness...      0   \n",
       "2   2  Read the article  not just the headline & you ...      0   \n",
       "3   3  Speaking of a horses backside  is that where y...      1   \n",
       "4   4  Michael Barone- gee are you dumb.  No other wo...      1   \n",
       "\n",
       "                                          clean_text  \n",
       "0  [desmond, played, base, night, tapia, lf, allc...  \n",
       "1  [funny, loyalty, blindness, english, community...  \n",
       "2                          [read, article, headline]  \n",
       "3                 [speaking, horses, backside, head]  \n",
       "4       [michael, barone-, gee, dumb, words, needed]  "
      ]
     },
     "execution_count": 52,
     "metadata": {},
     "output_type": "execute_result"
    }
   ],
   "source": [
    "train_df = preprocessing_tweet(train_df)\n",
    "test_df = preprocessing_tweet(test_df)\n",
    "eval_df['label'] = 0\n",
    "eval_df = preprocessing_tweet(eval_df)\n",
    "\n",
    "train_df.head()"
   ]
  },
  {
   "cell_type": "code",
   "execution_count": 53,
   "metadata": {},
   "outputs": [],
   "source": [
    "from collections import Counter\n",
    "\n",
    "vocab = {}\n",
    "word_freq = Counter()\n",
    "\n",
    "# Count word frequencies and build vocab\n",
    "for tweet in train_df[\"clean_text\"]:\n",
    "    for word in tweet:\n",
    "        word_freq[word] += 1\n",
    "\n",
    "# Assign indices to words based on frequency\n",
    "vocab_index = 1\n",
    "for word, freq in word_freq.items():\n",
    "    vocab[word] = vocab_index\n",
    "    vocab_index += 1\n",
    "\n",
    "# Add 'UNK' for unknown words\n",
    "vocab['UNK'] = len(vocab) + 1"
   ]
  },
  {
   "cell_type": "code",
   "execution_count": 54,
   "metadata": {},
   "outputs": [],
   "source": [
    "vocab = {}\n",
    "reverse_vocab = {}\n",
    "vocab_index = 1\n",
    "for tweet in train_df[\"clean_text\"]:\n",
    "    for word in tweet:\n",
    "        if word not in vocab:\n",
    "            vocab[word] = vocab_index\n",
    "            vocab_index += 1\n",
    "vocab['UNK'] = len(vocab) + 1"
   ]
  },
  {
   "cell_type": "code",
   "execution_count": 55,
   "metadata": {},
   "outputs": [],
   "source": [
    "def gen_seq(df):\n",
    "    x = []\n",
    "    for tweet in df[\"clean_text\"]:\n",
    "        seq = []\n",
    "        for word in tweet:\n",
    "            seq.append(vocab.get(word, vocab['UNK']))\n",
    "        x.append(seq)\n",
    "    df[\"seq\"] = x\n",
    "\n",
    "gen_seq(train_df)\n",
    "gen_seq(test_df)\n",
    "gen_seq(eval_df)"
   ]
  },
  {
   "cell_type": "code",
   "execution_count": 56,
   "metadata": {},
   "outputs": [
    {
     "name": "stdout",
     "output_type": "stream",
     "text": [
      "308\n"
     ]
    }
   ],
   "source": [
    "max_seq_length = train_df['seq'].apply(len).max()\n",
    "print(max_seq_length)\n",
    "pad_length = 64\n",
    "\n",
    "train_df['seq_padded'] = train_df['seq'].apply(lambda x: pad_sequences([x], padding='post', maxlen=pad_length)).str[0]\n",
    "test_df['seq_padded'] = test_df['seq'].apply(lambda x: pad_sequences([x], padding='post', maxlen=pad_length)).str[0]\n",
    "eval_df['seq_padded'] = eval_df['seq'].apply(lambda x: pad_sequences([x], padding='post', maxlen=pad_length)).str[0]"
   ]
  },
  {
   "cell_type": "code",
   "execution_count": 57,
   "metadata": {},
   "outputs": [],
   "source": [
    "class CustomDataset(Dataset):\n",
    "    def __init__(self, dataframe):\n",
    "        self.dataframe = dataframe\n",
    "\n",
    "    def __len__(self):\n",
    "        return len(self.dataframe)\n",
    "\n",
    "    def __getitem__(self, idx):\n",
    "        sequence = self.dataframe.iloc[idx]['seq_padded']\n",
    "        label = self.dataframe.iloc[idx]['label']\n",
    "        return torch.tensor(sequence), torch.tensor(label)\n",
    "\n",
    "trainset = CustomDataset(train_df)\n",
    "testset = CustomDataset(test_df)\n",
    "evalset = CustomDataset(eval_df)\n",
    "\n",
    "batch_size = 1\n",
    "trainloader = torch.utils.data.DataLoader(trainset, batch_size=batch_size, shuffle=False)\n",
    "testloader = torch.utils.data.DataLoader(testset, batch_size=batch_size, shuffle=False)\n",
    "evalloader = torch.utils.data.DataLoader(evalset, batch_size=batch_size, shuffle=False)"
   ]
  },
  {
   "cell_type": "code",
   "execution_count": 58,
   "metadata": {},
   "outputs": [],
   "source": [
    "import torch.nn.functional as F\n",
    "n_filters = 1000\n",
    "FILTER_SIZES = [3,4,5]\n",
    "OUTPUT_DIM = 1\n",
    "DROPOUT = 0.5\n",
    "class CNNModel(nn.Module):\n",
    "    def __init__(self, embedding_dim):\n",
    "        super(CNNModel, self).__init__()\n",
    "        self.embedding = nn.Embedding(len(vocab)+1, embedding_dim)\n",
    "        self.conv_0 = nn.Conv2d(in_channels=1, out_channels=n_filters, kernel_size=(FILTER_SIZES[0],embedding_dim))\n",
    "        self.conv_1 = nn.Conv2d(in_channels=1, out_channels=n_filters, kernel_size=(FILTER_SIZES[1],embedding_dim))\n",
    "        self.conv_2 = nn.Conv2d(in_channels=1, out_channels=n_filters, kernel_size=(FILTER_SIZES[2],embedding_dim))\n",
    "        self.fc = nn.Linear(len(FILTER_SIZES)*n_filters, OUTPUT_DIM )\n",
    "        self.dropout = nn.Dropout(DROPOUT)\n",
    "\n",
    "    def forward(self, x):\n",
    "        embedded = self.embedding(x)\n",
    "                \n",
    "        \n",
    "        embedded = embedded.unsqueeze(1)\n",
    "        conved_0 = F.relu(self.conv_0(embedded).squeeze(3))\n",
    "        conved_1 = F.relu(self.conv_1(embedded).squeeze(3))\n",
    "        conved_2 = F.relu(self.conv_2(embedded).squeeze(3))\n",
    "            \n",
    "        pooled_0 = F.max_pool1d(conved_0, conved_0.shape[2]).squeeze(2)\n",
    "        pooled_1 = F.max_pool1d(conved_1, conved_1.shape[2]).squeeze(2)\n",
    "        pooled_2 = F.max_pool1d(conved_2, conved_2.shape[2]).squeeze(2)\n",
    "        \n",
    "        cat = self.dropout(torch.cat((pooled_0, pooled_1, pooled_2), dim=1))\n",
    "            \n",
    "        return torch.sigmoid(self.fc(cat))\n",
    "    "
   ]
  },
  {
   "cell_type": "code",
   "execution_count": 59,
   "metadata": {},
   "outputs": [],
   "source": [
    "def compute_loss_and_accuracy(model, loader, criterion):\n",
    "    model.eval()\n",
    "    losses = []\n",
    "    correct = 0\n",
    "    total = 0\n",
    "    with torch.no_grad():\n",
    "        for x, y in loader:\n",
    "            x, y = x.to(device), y.float().to(device)\n",
    "            outputs = model.forward(x)\n",
    "            loss = criterion(outputs, y)\n",
    "            losses.append(loss.cpu().numpy())\n",
    "            predicted = torch.round(outputs)\n",
    "            total += y.size(0)\n",
    "            correct += (predicted == y).sum().item()\n",
    "    return np.mean(losses), correct / total\n",
    "\n",
    "def print_progress(epoch, train_loss, train_accuracy, val_loss, val_accuracy):\n",
    "    print('Epoch {}: Train loss: {:.4f}, Train accuracy: {:.4f}, Val loss: {:.4f}, Val accuracy {:.4f}'.format(\n",
    "        epoch, train_loss, train_accuracy, val_loss, val_accuracy))\n",
    "    \n",
    "def acc(pred,label):\n",
    "    pred = torch.round(pred.squeeze())\n",
    "    return torch.sum(pred == label.squeeze()).item()"
   ]
  },
  {
   "cell_type": "code",
   "execution_count": 60,
   "metadata": {},
   "outputs": [
    {
     "data": {
      "text/plain": [
       "CNNModel(\n",
       "  (embedding): Embedding(78560, 64)\n",
       "  (conv_0): Conv2d(1, 1000, kernel_size=(3, 64), stride=(1, 1))\n",
       "  (conv_1): Conv2d(1, 1000, kernel_size=(4, 64), stride=(1, 1))\n",
       "  (conv_2): Conv2d(1, 1000, kernel_size=(5, 64), stride=(1, 1))\n",
       "  (fc): Linear(in_features=3000, out_features=1, bias=True)\n",
       "  (dropout): Dropout(p=0.5, inplace=False)\n",
       ")"
      ]
     },
     "execution_count": 60,
     "metadata": {},
     "output_type": "execute_result"
    }
   ],
   "source": [
    "#embedding_dim = max_seq_length\n",
    "embedding_dim = pad_length\n",
    "cnn_model = CNNModel(embedding_dim)\n",
    "cnn_model.to(device)"
   ]
  },
  {
   "cell_type": "code",
   "execution_count": 61,
   "metadata": {},
   "outputs": [],
   "source": [
    "def load_model(model, filename, device):\n",
    "    model.load_state_dict(torch.load(filename, map_location=lambda storage, loc: storage))\n",
    "    print('Model loaded from %s.' % filename)\n",
    "    model.to(device)\n",
    "    model.eval()"
   ]
  },
  {
   "cell_type": "code",
   "execution_count": 62,
   "metadata": {},
   "outputs": [
    {
     "name": "stdout",
     "output_type": "stream",
     "text": [
      "Model loaded from cnn.pth.\n"
     ]
    },
    {
     "data": {
      "text/plain": [
       "5801841"
      ]
     },
     "execution_count": 62,
     "metadata": {},
     "output_type": "execute_result"
    }
   ],
   "source": [
    "load_model(cnn_model, 'model/cnn.pth', device)\n",
    "sum(p.numel() for p in cnn_model.parameters() if p.requires_grad)"
   ]
  },
  {
   "cell_type": "code",
   "execution_count": 63,
   "metadata": {},
   "outputs": [],
   "source": [
    "cnn_train_pred = []\n",
    "cnn_test_pred = []\n",
    "cnn_eval_pred = []\n",
    "\n",
    "for data in trainloader:\n",
    "    x_train, _ = data\n",
    "    x_train = x_train.to(device)\n",
    "    y_pred = cnn_model.forward(x_train)[0][0]\n",
    "    cnn_train_pred.append(y_pred.cpu().data.numpy().item())\n",
    "\n",
    "for data in testloader:\n",
    "    x_test, _ = data\n",
    "    x_test = x_test.to(device)\n",
    "    y_pred = cnn_model.forward(x_test)[0][0]\n",
    "    cnn_test_pred.append(y_pred.cpu().data.numpy().item())\n",
    "\n",
    "for data in evalloader:\n",
    "    x_val, _ = data\n",
    "    x_val = x_val.to(device)\n",
    "    y_pred = cnn_model.forward(x_val)[0][0]\n",
    "    cnn_eval_pred.append(y_pred.cpu().data.numpy().item())"
   ]
  },
  {
   "cell_type": "code",
   "execution_count": 64,
   "metadata": {},
   "outputs": [],
   "source": [
    "cnn_train_pred = [np.round(y) for y in cnn_train_pred]\n",
    "cnn_test_pred = [np.round(y) for y in cnn_test_pred]\n",
    "cnn_eval_pred = [np.round(y) for y in cnn_eval_pred]"
   ]
  },
  {
   "cell_type": "code",
   "execution_count": 65,
   "metadata": {},
   "outputs": [
    {
     "name": "stdout",
     "output_type": "stream",
     "text": [
      "Train accuracy: 0.9505757575757576\n",
      "Train precision: 0.9359034289328237\n",
      "Train recall: 0.9299961746543527\n",
      "Train F1 score: 0.932940450901117\n"
     ]
    },
    {
     "data": {
      "image/png": "[encoded data removed]",
      "text/plain": [
       "<Figure size 640x480 with 2 Axes>"
      ]
     },
     "metadata": {},
     "output_type": "display_data"
    }
   ],
   "source": [
    "cnn_y_train = train_df['label'].tolist()\n",
    "\n",
    "print(\"Train accuracy:\", accuracy_score(cnn_train_pred, cnn_y_train))\n",
    "print(\"Train precision:\", precision_score(cnn_train_pred, cnn_y_train))\n",
    "print(\"Train recall:\", recall_score(cnn_train_pred, cnn_y_train))\n",
    "print(\"Train F1 score:\", f1_score(cnn_train_pred, cnn_y_train))\n",
    "conf_mat = confusion_matrix(cnn_y_train, cnn_train_pred)\n",
    "disp = ConfusionMatrixDisplay(confusion_matrix=conf_mat)\n",
    "disp.plot()\n",
    "plt.show()"
   ]
  },
  {
   "cell_type": "code",
   "execution_count": 66,
   "metadata": {},
   "outputs": [
    {
     "name": "stdout",
     "output_type": "stream",
     "text": [
      "Test accuracy: 0.9240909090909091\n",
      "Test precision: 0.8982667671439337\n",
      "Test recall: 0.8926610084872691\n",
      "Test F1 score: 0.8954551145611619\n"
     ]
    },
    {
     "data": {
      "image/png": "[encoded data removed]",
      "text/plain": [
       "<Figure size 640x480 with 2 Axes>"
      ]
     },
     "metadata": {},
     "output_type": "display_data"
    }
   ],
   "source": [
    "cnn_y_test = test_df['label'].tolist()\n",
    "\n",
    "print(\"Test accuracy:\", accuracy_score(cnn_test_pred, cnn_y_test))\n",
    "print(\"Test precision:\", precision_score(cnn_test_pred, cnn_y_test))\n",
    "print(\"Test recall:\", recall_score(cnn_test_pred, cnn_y_test))\n",
    "print(\"Test F1 score:\", f1_score(cnn_test_pred, cnn_y_test))\n",
    "conf_mat = confusion_matrix(cnn_y_test, cnn_test_pred)\n",
    "disp = ConfusionMatrixDisplay(confusion_matrix=conf_mat)\n",
    "disp.plot()\n",
    "plt.show()"
   ]
  },
  {
   "cell_type": "code",
   "execution_count": 67,
   "metadata": {},
   "outputs": [],
   "source": [
    "differing_indices = [i for i, (x, y) in enumerate(zip(cnn_test_pred, cnn_y_test)) if x != y]"
   ]
  },
  {
   "cell_type": "code",
   "execution_count": 68,
   "metadata": {},
   "outputs": [
    {
     "data": {
      "text/html": [
       "<div>\n",
       "<style scoped>\n",
       "    .dataframe tbody tr th:only-of-type {\n",
       "        vertical-align: middle;\n",
       "    }\n",
       "\n",
       "    .dataframe tbody tr th {\n",
       "        vertical-align: top;\n",
       "    }\n",
       "\n",
       "    .dataframe thead th {\n",
       "        text-align: right;\n",
       "    }\n",
       "</style>\n",
       "<table border=\"1\" class=\"dataframe\">\n",
       "  <thead>\n",
       "    <tr style=\"text-align: right;\">\n",
       "      <th></th>\n",
       "      <th>text</th>\n",
       "      <th>label</th>\n",
       "    </tr>\n",
       "  </thead>\n",
       "  <tbody>\n",
       "    <tr>\n",
       "      <th>31</th>\n",
       "      <td>���I ain���t drunk.��� ���Then you���re mad; t...</td>\n",
       "      <td>1</td>\n",
       "    </tr>\n",
       "    <tr>\n",
       "      <th>49</th>\n",
       "      <td>Mm. That tastes like balls.</td>\n",
       "      <td>0</td>\n",
       "    </tr>\n",
       "    <tr>\n",
       "      <th>51</th>\n",
       "      <td>Do you fell better now  ready to put the pacif...</td>\n",
       "      <td>1</td>\n",
       "    </tr>\n",
       "    <tr>\n",
       "      <th>61</th>\n",
       "      <td>Wow. What a hateful person you seem to be. I t...</td>\n",
       "      <td>1</td>\n",
       "    </tr>\n",
       "    <tr>\n",
       "      <th>63</th>\n",
       "      <td>The Trump base: deluded and delusional.</td>\n",
       "      <td>1</td>\n",
       "    </tr>\n",
       "    <tr>\n",
       "      <th>...</th>\n",
       "      <td>...</td>\n",
       "      <td>...</td>\n",
       "    </tr>\n",
       "    <tr>\n",
       "      <th>10847</th>\n",
       "      <td>What an a$$hole you are.</td>\n",
       "      <td>1</td>\n",
       "    </tr>\n",
       "    <tr>\n",
       "      <th>10850</th>\n",
       "      <td>I'm with you on this point singlespey.  My wif...</td>\n",
       "      <td>0</td>\n",
       "    </tr>\n",
       "    <tr>\n",
       "      <th>10875</th>\n",
       "      <td>Ironic is it not that those filthy  squalid  u...</td>\n",
       "      <td>0</td>\n",
       "    </tr>\n",
       "    <tr>\n",
       "      <th>10894</th>\n",
       "      <td>If I were in the business I am speaking about ...</td>\n",
       "      <td>0</td>\n",
       "    </tr>\n",
       "    <tr>\n",
       "      <th>10917</th>\n",
       "      <td>These are Ossoff's peeps.  He should embrace t...</td>\n",
       "      <td>1</td>\n",
       "    </tr>\n",
       "  </tbody>\n",
       "</table>\n",
       "<p>835 rows × 2 columns</p>\n",
       "</div>"
      ],
      "text/plain": [
       "                                                    text  label\n",
       "31     ���I ain���t drunk.��� ���Then you���re mad; t...      1\n",
       "49                           Mm. That tastes like balls.      0\n",
       "51     Do you fell better now  ready to put the pacif...      1\n",
       "61     Wow. What a hateful person you seem to be. I t...      1\n",
       "63               The Trump base: deluded and delusional.      1\n",
       "...                                                  ...    ...\n",
       "10847                           What an a$$hole you are.      1\n",
       "10850  I'm with you on this point singlespey.  My wif...      0\n",
       "10875  Ironic is it not that those filthy  squalid  u...      0\n",
       "10894  If I were in the business I am speaking about ...      0\n",
       "10917  These are Ossoff's peeps.  He should embrace t...      1\n",
       "\n",
       "[835 rows x 2 columns]"
      ]
     },
     "execution_count": 68,
     "metadata": {},
     "output_type": "execute_result"
    }
   ],
   "source": [
    "test_df[[\"text\", \"label\"]].iloc[differing_indices]"
   ]
  },
  {
   "cell_type": "markdown",
   "metadata": {},
   "source": [
    "# BERT"
   ]
  },
  {
   "cell_type": "code",
   "execution_count": 69,
   "metadata": {},
   "outputs": [],
   "source": [
    "from transformers import BertTokenizer, TFBertModel\n",
    "from transformers import DistilBertTokenizer, TFDistilBertModel\n",
    "from transformers import DistilBertTokenizerFast\n",
    "from torch.utils.data import TensorDataset\n",
    "from tqdm.notebook import tqdm"
   ]
  },
  {
   "cell_type": "code",
   "execution_count": 70,
   "metadata": {},
   "outputs": [],
   "source": [
    "def hashtag(text):\n",
    "  FLAGS = re.MULTILINE | re.DOTALL\n",
    "  text = text.group()\n",
    "  hashtag_body = text[1:]\n",
    "  if hashtag_body.isupper():\n",
    "      result = \"<hashtag> {} <allcaps>\".format(hashtag_body.lower())\n",
    "  else:\n",
    "      result = \" \".join([\"<hashtag>\"] + re.split(r\"(?=[A-Z])\", hashtag_body, flags=FLAGS))\n",
    "  return result\n",
    "\n",
    "def allcaps(text):\n",
    "    text = text.group()\n",
    "    return text.lower() + \" <allcaps> \" \n",
    "\n",
    "def clean_data(text):\n",
    "  FLAGS = re.MULTILINE | re.DOTALL\n",
    "  eyes = r\"[8:=;]\"\n",
    "  nose = r\"['`\\-]?\"\n",
    "  def re_sub(pattern, repl):\n",
    "      return re.sub(pattern, repl, text, flags=FLAGS)\n",
    "\n",
    "  text = emoji.demojize(text)\n",
    "  text = re_sub(r\"https?:\\/\\/\\S+\\b|www\\.(\\w+\\.)+\\S*\", \"<url>\")\n",
    "  text = re_sub(r\"@\\w+\", \"<user>\")\n",
    "  text = re_sub(r\"{}{}[)dD]+|[)dD]+{}{}\".format(eyes, nose, nose, eyes), \"<smile>\")\n",
    "  text = re_sub(r\"{}{}p+\".format(eyes, nose), \"<lolface>\")\n",
    "  text = re_sub(r\"{}{}\\(+|\\)+{}{}\".format(eyes, nose, nose, eyes), \"<sadface>\")\n",
    "  text = re_sub(r\"{}{}[\\/|l*]\".format(eyes, nose), \"<neutralface>\")\n",
    "  text = re_sub(r\"/\",\" / \")\n",
    "  text = re_sub(r\"<3\",\"<heart>\")\n",
    "  text = re_sub(r\"[-+]?[.\\d]*[\\d]+[:,.\\d]*\", \"<number>\")\n",
    "  text = re_sub(r\"#\\w+\", hashtag)\n",
    "  text = re_sub(r\"([!?.]){2,}\", r\"\\1 <repeat>\")\n",
    "  text = re_sub(r\"\\b(\\S*?)(.)\\2{2,}\\b\", r\"\\1\\2 <elong>\")\n",
    "\n",
    "  text = re_sub(r\"([a-zA-Z<>()])([?!.:;,])\", r\"\\1 \\2\")\n",
    "  text = re_sub(r\"\\(([a-zA-Z<>]+)\\)\", r\"( \\1 )\")\n",
    "  text = re_sub(r\"  \", r\" \")\n",
    "  text = re_sub(r\" ([A-Z]){2,} \", allcaps)\n",
    "    \n",
    "  return text.lower()\n",
    "\n",
    "def preprocessing_tweet(tweet_df):\n",
    "  temp_list= []\n",
    "  for t in tweet_df['text']:\n",
    "    temp_list.append(clean_data(t))\n",
    "  tweet_df['clean_text'] = temp_list\n",
    "  return tweet_df"
   ]
  },
  {
   "cell_type": "code",
   "execution_count": 72,
   "metadata": {},
   "outputs": [
    {
     "data": {
      "text/html": [
       "<div>\n",
       "<style scoped>\n",
       "    .dataframe tbody tr th:only-of-type {\n",
       "        vertical-align: middle;\n",
       "    }\n",
       "\n",
       "    .dataframe tbody tr th {\n",
       "        vertical-align: top;\n",
       "    }\n",
       "\n",
       "    .dataframe thead th {\n",
       "        text-align: right;\n",
       "    }\n",
       "</style>\n",
       "<table border=\"1\" class=\"dataframe\">\n",
       "  <thead>\n",
       "    <tr style=\"text-align: right;\">\n",
       "      <th></th>\n",
       "      <th>id</th>\n",
       "      <th>text</th>\n",
       "      <th>label</th>\n",
       "    </tr>\n",
       "  </thead>\n",
       "  <tbody>\n",
       "    <tr>\n",
       "      <th>0</th>\n",
       "      <td>0</td>\n",
       "      <td>Except that Desmond played first base last nig...</td>\n",
       "      <td>0</td>\n",
       "    </tr>\n",
       "    <tr>\n",
       "      <th>1</th>\n",
       "      <td>1</td>\n",
       "      <td>What i find funny is the loyalty and blindness...</td>\n",
       "      <td>0</td>\n",
       "    </tr>\n",
       "    <tr>\n",
       "      <th>2</th>\n",
       "      <td>2</td>\n",
       "      <td>Read the article  not just the headline &amp; you ...</td>\n",
       "      <td>0</td>\n",
       "    </tr>\n",
       "    <tr>\n",
       "      <th>3</th>\n",
       "      <td>3</td>\n",
       "      <td>Speaking of a horses backside  is that where y...</td>\n",
       "      <td>1</td>\n",
       "    </tr>\n",
       "    <tr>\n",
       "      <th>4</th>\n",
       "      <td>4</td>\n",
       "      <td>Michael Barone- gee are you dumb.  No other wo...</td>\n",
       "      <td>1</td>\n",
       "    </tr>\n",
       "  </tbody>\n",
       "</table>\n",
       "</div>"
      ],
      "text/plain": [
       "   id                                               text  label\n",
       "0   0  Except that Desmond played first base last nig...      0\n",
       "1   1  What i find funny is the loyalty and blindness...      0\n",
       "2   2  Read the article  not just the headline & you ...      0\n",
       "3   3  Speaking of a horses backside  is that where y...      1\n",
       "4   4  Michael Barone- gee are you dumb.  No other wo...      1"
      ]
     },
     "execution_count": 72,
     "metadata": {},
     "output_type": "execute_result"
    }
   ],
   "source": [
    "train_df = pd.read_csv(\"data/train_2024.csv\", quoting=3)\n",
    "test_df = pd.read_csv(\"data/dev_2024.csv\", quoting=3)\n",
    "eval_df = pd.read_csv(\"data/test_2024.csv\", quoting=3)\n",
    "eval_df['label'] = 0\n",
    "train_df.head()"
   ]
  },
  {
   "cell_type": "code",
   "execution_count": 73,
   "metadata": {},
   "outputs": [
    {
     "data": {
      "text/html": [
       "<div>\n",
       "<style scoped>\n",
       "    .dataframe tbody tr th:only-of-type {\n",
       "        vertical-align: middle;\n",
       "    }\n",
       "\n",
       "    .dataframe tbody tr th {\n",
       "        vertical-align: top;\n",
       "    }\n",
       "\n",
       "    .dataframe thead th {\n",
       "        text-align: right;\n",
       "    }\n",
       "</style>\n",
       "<table border=\"1\" class=\"dataframe\">\n",
       "  <thead>\n",
       "    <tr style=\"text-align: right;\">\n",
       "      <th></th>\n",
       "      <th>id</th>\n",
       "      <th>text</th>\n",
       "      <th>label</th>\n",
       "      <th>clean_text</th>\n",
       "    </tr>\n",
       "  </thead>\n",
       "  <tbody>\n",
       "    <tr>\n",
       "      <th>0</th>\n",
       "      <td>0</td>\n",
       "      <td>Except that Desmond played first base last nig...</td>\n",
       "      <td>0</td>\n",
       "      <td>except that desmond played first base last nig...</td>\n",
       "    </tr>\n",
       "    <tr>\n",
       "      <th>1</th>\n",
       "      <td>1</td>\n",
       "      <td>What i find funny is the loyalty and blindness...</td>\n",
       "      <td>0</td>\n",
       "      <td>what i find funny is the loyalty and blindness...</td>\n",
       "    </tr>\n",
       "    <tr>\n",
       "      <th>2</th>\n",
       "      <td>2</td>\n",
       "      <td>Read the article  not just the headline &amp; you ...</td>\n",
       "      <td>0</td>\n",
       "      <td>read the article not just the headline &amp; you w...</td>\n",
       "    </tr>\n",
       "    <tr>\n",
       "      <th>3</th>\n",
       "      <td>3</td>\n",
       "      <td>Speaking of a horses backside  is that where y...</td>\n",
       "      <td>1</td>\n",
       "      <td>speaking of a horses backside is that where yo...</td>\n",
       "    </tr>\n",
       "    <tr>\n",
       "      <th>4</th>\n",
       "      <td>4</td>\n",
       "      <td>Michael Barone- gee are you dumb.  No other wo...</td>\n",
       "      <td>1</td>\n",
       "      <td>michael barone- gee are you dumb . no other wo...</td>\n",
       "    </tr>\n",
       "  </tbody>\n",
       "</table>\n",
       "</div>"
      ],
      "text/plain": [
       "   id                                               text  label  \\\n",
       "0   0  Except that Desmond played first base last nig...      0   \n",
       "1   1  What i find funny is the loyalty and blindness...      0   \n",
       "2   2  Read the article  not just the headline & you ...      0   \n",
       "3   3  Speaking of a horses backside  is that where y...      1   \n",
       "4   4  Michael Barone- gee are you dumb.  No other wo...      1   \n",
       "\n",
       "                                          clean_text  \n",
       "0  except that desmond played first base last nig...  \n",
       "1  what i find funny is the loyalty and blindness...  \n",
       "2  read the article not just the headline & you w...  \n",
       "3  speaking of a horses backside is that where yo...  \n",
       "4  michael barone- gee are you dumb . no other wo...  "
      ]
     },
     "execution_count": 73,
     "metadata": {},
     "output_type": "execute_result"
    }
   ],
   "source": [
    "train_df = preprocessing_tweet(train_df)\n",
    "test_df = preprocessing_tweet(test_df)\n",
    "eval_df = preprocessing_tweet(eval_df)\n",
    "train_df.head()"
   ]
  },
  {
   "cell_type": "code",
   "execution_count": 74,
   "metadata": {},
   "outputs": [],
   "source": [
    "def extract_tweet_and_y(raw_data_df):\n",
    "  tweet, target = raw_data_df['clean_text'].tolist(), raw_data_df['label'].tolist()\n",
    "  return tweet, target"
   ]
  },
  {
   "cell_type": "code",
   "execution_count": 75,
   "metadata": {},
   "outputs": [],
   "source": [
    "X_train, y_train = extract_tweet_and_y(train_df)\n",
    "X_test, y_test = extract_tweet_and_y(test_df)\n",
    "X_eval, y_eval = extract_tweet_and_y(eval_df)"
   ]
  },
  {
   "cell_type": "code",
   "execution_count": 76,
   "metadata": {},
   "outputs": [
    {
     "data": {
      "application/vnd.jupyter.widget-view+json": {
       "model_id": "9ff4cd663c0f42bdac9ba9b262d2a269",
       "version_major": 2,
       "version_minor": 0
      },
      "text/plain": [
       "tokenizer_config.json:   0%|          | 0.00/48.0 [00:00<?, ?B/s]"
      ]
     },
     "metadata": {},
     "output_type": "display_data"
    },
    {
     "data": {
      "application/vnd.jupyter.widget-view+json": {
       "model_id": "1d014588313f49a08fb46d82aea2e1ad",
       "version_major": 2,
       "version_minor": 0
      },
      "text/plain": [
       "vocab.txt:   0%|          | 0.00/232k [00:00<?, ?B/s]"
      ]
     },
     "metadata": {},
     "output_type": "display_data"
    },
    {
     "data": {
      "application/vnd.jupyter.widget-view+json": {
       "model_id": "c83c3dc3470e4bd69155c8ea7ae41db5",
       "version_major": 2,
       "version_minor": 0
      },
      "text/plain": [
       "tokenizer.json:   0%|          | 0.00/466k [00:00<?, ?B/s]"
      ]
     },
     "metadata": {},
     "output_type": "display_data"
    },
    {
     "data": {
      "application/vnd.jupyter.widget-view+json": {
       "model_id": "a687866ee86946d1962c595e34297813",
       "version_major": 2,
       "version_minor": 0
      },
      "text/plain": [
       "config.json:   0%|          | 0.00/570 [00:00<?, ?B/s]"
      ]
     },
     "metadata": {},
     "output_type": "display_data"
    },
    {
     "name": "stderr",
     "output_type": "stream",
     "text": [
      "Truncation was not explicitly activated but `max_length` is provided a specific value, please use `truncation=True` to explicitly truncate examples to max length. Defaulting to 'longest_first' truncation strategy. If you encode pairs of sequences (GLUE-style) with the tokenizer you can select this strategy more precisely by providing a specific strategy to `truncation`.\n",
      "/opt/homebrew/lib/python3.11/site-packages/transformers/tokenization_utils_base.py:2619: FutureWarning: The `pad_to_max_length` argument is deprecated and will be removed in a future version, use `padding=True` or `padding='longest'` to pad to the longest sequence in the batch, or use `padding='max_length'` to pad to a max length. In this case, you can give a specific length with `max_length` (e.g. `max_length=45`) or leave max_length to None to pad to the maximal input size of the model (e.g. 512 for Bert).\n",
      "  warnings.warn(\n"
     ]
    }
   ],
   "source": [
    "max_length = 256\n",
    "\n",
    "tokenizer = BertTokenizer.from_pretrained(\n",
    "    'bert-base-uncased',\n",
    "    do_lower_case=True\n",
    ")\n",
    "\n",
    "train_tokens = tokenizer.batch_encode_plus(\n",
    "    X_train,\n",
    "    add_special_tokens=True,\n",
    "    return_attention_mask=True,\n",
    "    pad_to_max_length=True,\n",
    "    max_length=max_length,\n",
    "    return_tensors='pt'\n",
    ")\n",
    "\n",
    "test_tokens = tokenizer.batch_encode_plus(\n",
    "    X_test,\n",
    "    add_special_tokens=True,\n",
    "    return_attention_mask=True,\n",
    "    pad_to_max_length=True,\n",
    "    max_length=max_length,\n",
    "    return_tensors='pt'\n",
    ")\n",
    "\n",
    "eval_tokens = tokenizer(X_eval,\n",
    "                       add_special_tokens=True,\n",
    "                       pad_to_max_length=True,\n",
    "                       return_attention_mask=True,\n",
    "                       max_length=max_length,\n",
    "                       return_tensors='pt')"
   ]
  },
  {
   "cell_type": "code",
   "execution_count": 77,
   "metadata": {},
   "outputs": [],
   "source": [
    "train_dataset = TensorDataset(train_tokens['input_ids'], \n",
    "                              train_tokens['attention_mask'],\n",
    "                              torch.tensor(y_train))\n",
    "\n",
    "test_dataset = TensorDataset(test_tokens['input_ids'],\n",
    "                             test_tokens['attention_mask'],\n",
    "                             torch.tensor(y_test))\n",
    "\n",
    "eval_dataset = TensorDataset(eval_tokens['input_ids'],\n",
    "                            eval_tokens['attention_mask'],\n",
    "                            torch.tensor(y_eval))\n"
   ]
  },
  {
   "cell_type": "code",
   "execution_count": 78,
   "metadata": {},
   "outputs": [],
   "source": [
    "from transformers import BertForSequenceClassification"
   ]
  },
  {
   "cell_type": "code",
   "execution_count": 79,
   "metadata": {},
   "outputs": [
    {
     "data": {
      "application/vnd.jupyter.widget-view+json": {
       "model_id": "b6de09c577184e8793b6466a5713d722",
       "version_major": 2,
       "version_minor": 0
      },
      "text/plain": [
       "model.safetensors:   0%|          | 0.00/440M [00:00<?, ?B/s]"
      ]
     },
     "metadata": {},
     "output_type": "display_data"
    },
    {
     "name": "stderr",
     "output_type": "stream",
     "text": [
      "Some weights of BertForSequenceClassification were not initialized from the model checkpoint at bert-base-uncased and are newly initialized: ['classifier.bias', 'classifier.weight']\n",
      "You should probably TRAIN this model on a down-stream task to be able to use it for predictions and inference.\n"
     ]
    }
   ],
   "source": [
    "bert_model = BertForSequenceClassification.from_pretrained(\n",
    "                                      'bert-base-uncased', \n",
    "                                      num_labels = 2,\n",
    "                                      output_attentions = False,\n",
    "                                      output_hidden_states = False\n",
    "                                     )"
   ]
  },
  {
   "cell_type": "code",
   "execution_count": 80,
   "metadata": {},
   "outputs": [
    {
     "data": {
      "text/plain": [
       "<All keys matched successfully>"
      ]
     },
     "execution_count": 80,
     "metadata": {},
     "output_type": "execute_result"
    }
   ],
   "source": [
    "bert_model.load_state_dict(torch.load(\"model/pytorch_bert_big_train.h5\", map_location=device))"
   ]
  },
  {
   "cell_type": "code",
   "execution_count": 81,
   "metadata": {},
   "outputs": [
    {
     "data": {
      "text/plain": [
       "BertForSequenceClassification(\n",
       "  (bert): BertModel(\n",
       "    (embeddings): BertEmbeddings(\n",
       "      (word_embeddings): Embedding(30522, 768, padding_idx=0)\n",
       "      (position_embeddings): Embedding(512, 768)\n",
       "      (token_type_embeddings): Embedding(2, 768)\n",
       "      (LayerNorm): LayerNorm((768,), eps=1e-12, elementwise_affine=True)\n",
       "      (dropout): Dropout(p=0.1, inplace=False)\n",
       "    )\n",
       "    (encoder): BertEncoder(\n",
       "      (layer): ModuleList(\n",
       "        (0-11): 12 x BertLayer(\n",
       "          (attention): BertAttention(\n",
       "            (self): BertSelfAttention(\n",
       "              (query): Linear(in_features=768, out_features=768, bias=True)\n",
       "              (key): Linear(in_features=768, out_features=768, bias=True)\n",
       "              (value): Linear(in_features=768, out_features=768, bias=True)\n",
       "              (dropout): Dropout(p=0.1, inplace=False)\n",
       "            )\n",
       "            (output): BertSelfOutput(\n",
       "              (dense): Linear(in_features=768, out_features=768, bias=True)\n",
       "              (LayerNorm): LayerNorm((768,), eps=1e-12, elementwise_affine=True)\n",
       "              (dropout): Dropout(p=0.1, inplace=False)\n",
       "            )\n",
       "          )\n",
       "          (intermediate): BertIntermediate(\n",
       "            (dense): Linear(in_features=768, out_features=3072, bias=True)\n",
       "            (intermediate_act_fn): GELUActivation()\n",
       "          )\n",
       "          (output): BertOutput(\n",
       "            (dense): Linear(in_features=3072, out_features=768, bias=True)\n",
       "            (LayerNorm): LayerNorm((768,), eps=1e-12, elementwise_affine=True)\n",
       "            (dropout): Dropout(p=0.1, inplace=False)\n",
       "          )\n",
       "        )\n",
       "      )\n",
       "    )\n",
       "    (pooler): BertPooler(\n",
       "      (dense): Linear(in_features=768, out_features=768, bias=True)\n",
       "      (activation): Tanh()\n",
       "    )\n",
       "  )\n",
       "  (dropout): Dropout(p=0.1, inplace=False)\n",
       "  (classifier): Linear(in_features=768, out_features=2, bias=True)\n",
       ")"
      ]
     },
     "execution_count": 81,
     "metadata": {},
     "output_type": "execute_result"
    }
   ],
   "source": [
    "bert_model.to(device)"
   ]
  },
  {
   "cell_type": "code",
   "execution_count": 82,
   "metadata": {},
   "outputs": [
    {
     "data": {
      "text/plain": [
       "109483778"
      ]
     },
     "execution_count": 82,
     "metadata": {},
     "output_type": "execute_result"
    }
   ],
   "source": [
    "sum(p.numel() for p in bert_model.parameters() if p.requires_grad)"
   ]
  },
  {
   "cell_type": "code",
   "execution_count": 83,
   "metadata": {},
   "outputs": [],
   "source": [
    "from torch.utils.data import DataLoader"
   ]
  },
  {
   "cell_type": "code",
   "execution_count": 84,
   "metadata": {},
   "outputs": [],
   "source": [
    "batch_size = 1\n",
    "dataloader_train = DataLoader(\n",
    "    train_dataset,\n",
    "    batch_size=batch_size,\n",
    "    shuffle=False\n",
    ")\n",
    "\n",
    "# RandomSampler removed to allow for repeatable evaluations\n",
    "dataloader_test = DataLoader(\n",
    "    test_dataset,\n",
    "    batch_size=batch_size,\n",
    "    shuffle=False\n",
    ")\n",
    "\n",
    "dataloader_eval = DataLoader(\n",
    "    eval_dataset,\n",
    "    batch_size=batch_size,\n",
    "    shuffle=False\n",
    ")"
   ]
  },
  {
   "cell_type": "code",
   "execution_count": 85,
   "metadata": {},
   "outputs": [],
   "source": [
    "def evaluate(dataloader_val):\n",
    "\n",
    "    bert_model.eval()\n",
    "    \n",
    "    predictions, true_vals = [], []\n",
    "    \n",
    "    for batch in tqdm(dataloader_val):\n",
    "        \n",
    "        batch = tuple(b.to(device) for b in batch)\n",
    "        \n",
    "        inputs = {'input_ids':      batch[0],\n",
    "                  'attention_mask': batch[1],\n",
    "                  'labels':         batch[2],\n",
    "                 }\n",
    "\n",
    "        with torch.no_grad():        \n",
    "            outputs = bert_model(**inputs)\n",
    "            \n",
    "        logits = outputs[1]\n",
    "\n",
    "        \n",
    "        logits = logits.detach().cpu().numpy()\n",
    "        label_ids = inputs['labels'].cpu().numpy()\n",
    "        predictions.append(logits)\n",
    "        true_vals.append(label_ids)\n",
    "    \n",
    "    \n",
    "    predictions = np.concatenate(predictions, axis=0)\n",
    "    true_vals = np.concatenate(true_vals, axis=0)\n",
    "            \n",
    "    return predictions, true_vals"
   ]
  },
  {
   "cell_type": "code",
   "execution_count": null,
   "metadata": {},
   "outputs": [],
   "source": [
    "train_y_pred, train_y_true = evaluate(dataloader_train)\n",
    "test_y_pred, test_y_true = evaluate(dataloader_test)\n",
    "eval_y_pred, _ = evaluate(dataloader_eval)"
   ]
  },
  {
   "cell_type": "code",
   "execution_count": null,
   "metadata": {},
   "outputs": [
    {
     "name": "stdout",
     "output_type": "stream",
     "text": [
      "99000\n",
      "[0 0 0 1 1 1 1 1 1 0 1 1 0 1 0 0 1 0 0 0]\n",
      "[0 0 0 1 1 1 1 1 0 0 1 1 0 1 0 0 1 0 0 0]\n",
      "[0 0 0 1 1 1 1 1 0 0 1 1 0 1 0 0 1 0 0 0]\n",
      "11000\n",
      "[0 0 0 1 0 0 0 1 0 1 0 0 1 1 0 1 0 0 0 0]\n",
      "[0 0 0 1 0 0 0 1 0 1 0 0 1 1 0 1 0 0 0 0]\n",
      "[0 0 0 1 0 0 0 1 0 1 0 0 1 1 0 1 0 0 0 0]\n",
      "12001\n",
      "[1 0 0 1 1 1 0 1 1 1 0 0 0 0 1 1 1 0 0 1]\n"
     ]
    }
   ],
   "source": [
    "# Convert to classes 0 or 1\n",
    "bert_train_pred = np.argmax(train_y_pred, axis=1)\n",
    "print(len(bert_train_pred))\n",
    "print(bert_train_pred[0:20])\n",
    "print(train_y_true[0:20])\n",
    "print(np.array(y_train[0:20]))\n",
    "\n",
    "bert_test_pred = np.argmax(test_y_pred, axis=1)\n",
    "print(len(bert_test_pred))\n",
    "print(bert_test_pred[0:20])\n",
    "print(test_y_true[0:20])\n",
    "print(np.array(y_test[0:20]))\n",
    "\n",
    "bert_eval_pred = np.argmax(eval_y_pred, axis=1)\n",
    "print(len(bert_eval_pred))\n",
    "print(bert_eval_pred[0:20])"
   ]
  },
  {
   "cell_type": "code",
   "execution_count": null,
   "metadata": {},
   "outputs": [
    {
     "name": "stdout",
     "output_type": "stream",
     "text": [
      "Train accuracy: 0.9712727272727273\n",
      "Train precision: 0.9806142931778811\n",
      "Train recall: 0.9434141953916563\n",
      "Train F1 score: 0.9616546219393809\n"
     ]
    },
    {
     "data": {
      "image/png": "[encoded data removed]",
      "text/plain": [
       "<Figure size 432x288 with 2 Axes>"
      ]
     },
     "metadata": {
      "needs_background": "light"
     },
     "output_type": "display_data"
    }
   ],
   "source": [
    "bert_y_train = train_df['label'].tolist()\n",
    "\n",
    "print(\"Train accuracy:\", accuracy_score(bert_train_pred, bert_y_train))\n",
    "print(\"Train precision:\", precision_score(bert_train_pred, bert_y_train))\n",
    "print(\"Train recall:\", recall_score(bert_train_pred, bert_y_train))\n",
    "print(\"Train F1 score:\", f1_score(bert_train_pred, bert_y_train))\n",
    "conf_mat = confusion_matrix(bert_y_train, bert_train_pred)\n",
    "disp = ConfusionMatrixDisplay(confusion_matrix=conf_mat)\n",
    "disp.plot()\n",
    "plt.show()"
   ]
  },
  {
   "cell_type": "code",
   "execution_count": null,
   "metadata": {},
   "outputs": [
    {
     "name": "stdout",
     "output_type": "stream",
     "text": [
      "Test accuracy: 0.9502727272727273\n",
      "Test precision: 0.9565435820145692\n",
      "Test recall: 0.9105691056910569\n",
      "Test F1 score: 0.9329903221854711\n"
     ]
    },
    {
     "data": {
      "image/png": "[encoded data removed]",
      "text/plain": [
       "<Figure size 432x288 with 2 Axes>"
      ]
     },
     "metadata": {
      "needs_background": "light"
     },
     "output_type": "display_data"
    }
   ],
   "source": [
    "bert_y_test = test_df['label'].tolist()\n",
    "\n",
    "print(\"Test accuracy:\", accuracy_score(bert_test_pred, bert_y_test))\n",
    "print(\"Test precision:\", precision_score(bert_test_pred, bert_y_test))\n",
    "print(\"Test recall:\", recall_score(bert_test_pred, bert_y_test))\n",
    "print(\"Test F1 score:\", f1_score(bert_test_pred, bert_y_test))\n",
    "conf_mat = confusion_matrix(bert_y_test, bert_test_pred)\n",
    "disp = ConfusionMatrixDisplay(confusion_matrix=conf_mat)\n",
    "disp.plot()\n",
    "plt.show()"
   ]
  },
  {
   "cell_type": "code",
   "execution_count": null,
   "metadata": {},
   "outputs": [],
   "source": [
    "import csv\n",
    "\n",
    "# Define the CSV file path\n",
    "csv_file = \"group6_bert_submission.csv\"\n",
    "\n",
    "# Write the labels to the CSV file\n",
    "with open(csv_file, 'w', newline='') as file:\n",
    "    writer = csv.writer(file)\n",
    "    writer.writerow(['id', 'label'])  # Write the header\n",
    "    for idx, label in enumerate(bert_eval_pred):\n",
    "        writer.writerow([idx, label])"
   ]
  },
  {
   "cell_type": "markdown",
   "metadata": {},
   "source": [
    "# BERT-LSTM-CNN-Ensemble"
   ]
  },
  {
   "cell_type": "code",
   "execution_count": null,
   "metadata": {},
   "outputs": [],
   "source": [
    "from scipy.stats import mode\n",
    "\n",
    "train_stack = np.stack((bert_train_pred, lstm_train_pred, cnn_train_pred), axis = 0)\n",
    "test_stack = np.stack((bert_test_pred, lstm_test_pred, cnn_test_pred), axis = 0)\n",
    "eval_stack = np.stack((bert_eval_pred, lstm_eval_pred, cnn_eval_pred), axis = 0)\n",
    "\n",
    "ensemble_train_pred = mode(train_stack, axis=0)[0][0]\n",
    "ensemble_test_pred = mode(test_stack, axis=0)[0][0]\n",
    "ensemble_eval_pred = mode(eval_stack, axis=0)[0][0]"
   ]
  },
  {
   "cell_type": "code",
   "execution_count": null,
   "metadata": {},
   "outputs": [
    {
     "name": "stdout",
     "output_type": "stream",
     "text": [
      "Train accuracy: 0.9676666666666667\n",
      "Train precision: 0.9690378639975802\n",
      "Train recall: 0.9443938257047915\n",
      "Train F1 score: 0.9565571434387851\n"
     ]
    },
    {
     "data": {
      "image/png": "[encoded data removed]",
      "text/plain": [
       "<Figure size 432x288 with 2 Axes>"
      ]
     },
     "metadata": {
      "needs_background": "light"
     },
     "output_type": "display_data"
    }
   ],
   "source": [
    "ensemble_y_train = train_df['label'].tolist()\n",
    "\n",
    "print(\"Train accuracy:\", accuracy_score(ensemble_train_pred, ensemble_y_train))\n",
    "print(\"Train precision:\", precision_score(ensemble_train_pred, ensemble_y_train))\n",
    "print(\"Train recall:\", recall_score(ensemble_train_pred, ensemble_y_train))\n",
    "print(\"Train F1 score:\", f1_score(ensemble_train_pred, ensemble_y_train))\n",
    "conf_mat = confusion_matrix(ensemble_y_train, ensemble_train_pred)\n",
    "disp = ConfusionMatrixDisplay(confusion_matrix=conf_mat)\n",
    "disp.plot()\n",
    "plt.show()"
   ]
  },
  {
   "cell_type": "code",
   "execution_count": null,
   "metadata": {},
   "outputs": [
    {
     "name": "stdout",
     "output_type": "stream",
     "text": [
      "Test accuracy: 0.9391818181818182\n",
      "Test precision: 0.9253956292388847\n",
      "Test recall: 0.908284023668639\n",
      "Test F1 score: 0.9167599850690556\n"
     ]
    },
    {
     "data": {
      "image/png": "[encoded data removed]",
      "text/plain": [
       "<Figure size 432x288 with 2 Axes>"
      ]
     },
     "metadata": {
      "needs_background": "light"
     },
     "output_type": "display_data"
    }
   ],
   "source": [
    "ensemble_y_test = test_df['label'].tolist()\n",
    "\n",
    "print(\"Test accuracy:\", accuracy_score(ensemble_test_pred, ensemble_y_test))\n",
    "print(\"Test precision:\", precision_score(ensemble_test_pred, ensemble_y_test))\n",
    "print(\"Test recall:\", recall_score(ensemble_test_pred, ensemble_y_test))\n",
    "print(\"Test F1 score:\", f1_score(ensemble_test_pred, ensemble_y_test))\n",
    "conf_mat = confusion_matrix(ensemble_y_test, ensemble_test_pred)\n",
    "disp = ConfusionMatrixDisplay(confusion_matrix=conf_mat)\n",
    "disp.plot()\n",
    "plt.show()"
   ]
  },
  {
   "cell_type": "code",
   "execution_count": null,
   "metadata": {},
   "outputs": [],
   "source": [
    "differing_indices = [i for i, (x, y) in enumerate(zip(ensemble_test_pred, ensemble_y_test)) if x != y]"
   ]
  },
  {
   "cell_type": "code",
   "execution_count": null,
   "metadata": {},
   "outputs": [
    {
     "data": {
      "text/html": [
       "<div>\n",
       "<style scoped>\n",
       "    .dataframe tbody tr th:only-of-type {\n",
       "        vertical-align: middle;\n",
       "    }\n",
       "\n",
       "    .dataframe tbody tr th {\n",
       "        vertical-align: top;\n",
       "    }\n",
       "\n",
       "    .dataframe thead th {\n",
       "        text-align: right;\n",
       "    }\n",
       "</style>\n",
       "<table border=\"1\" class=\"dataframe\">\n",
       "  <thead>\n",
       "    <tr style=\"text-align: right;\">\n",
       "      <th></th>\n",
       "      <th>text</th>\n",
       "      <th>label</th>\n",
       "    </tr>\n",
       "  </thead>\n",
       "  <tbody>\n",
       "    <tr>\n",
       "      <th>31</th>\n",
       "      <td>���I ain���t drunk.��� ���Then you���re mad; t...</td>\n",
       "      <td>1</td>\n",
       "    </tr>\n",
       "    <tr>\n",
       "      <th>49</th>\n",
       "      <td>Mm. That tastes like balls.</td>\n",
       "      <td>0</td>\n",
       "    </tr>\n",
       "    <tr>\n",
       "      <th>51</th>\n",
       "      <td>Do you fell better now  ready to put the pacif...</td>\n",
       "      <td>1</td>\n",
       "    </tr>\n",
       "    <tr>\n",
       "      <th>61</th>\n",
       "      <td>Wow. What a hateful person you seem to be. I t...</td>\n",
       "      <td>1</td>\n",
       "    </tr>\n",
       "    <tr>\n",
       "      <th>71</th>\n",
       "      <td>i'll be darn you wouldn't think that close tha...</td>\n",
       "      <td>0</td>\n",
       "    </tr>\n",
       "    <tr>\n",
       "      <th>...</th>\n",
       "      <td>...</td>\n",
       "      <td>...</td>\n",
       "    </tr>\n",
       "    <tr>\n",
       "      <th>10829</th>\n",
       "      <td>Nobody in Anchorage wants to go to Fairbanks i...</td>\n",
       "      <td>0</td>\n",
       "    </tr>\n",
       "    <tr>\n",
       "      <th>10847</th>\n",
       "      <td>What an a$$hole you are.</td>\n",
       "      <td>1</td>\n",
       "    </tr>\n",
       "    <tr>\n",
       "      <th>10875</th>\n",
       "      <td>Ironic is it not that those filthy  squalid  u...</td>\n",
       "      <td>0</td>\n",
       "    </tr>\n",
       "    <tr>\n",
       "      <th>10894</th>\n",
       "      <td>If I were in the business I am speaking about ...</td>\n",
       "      <td>0</td>\n",
       "    </tr>\n",
       "    <tr>\n",
       "      <th>10917</th>\n",
       "      <td>These are Ossoff's peeps.  He should embrace t...</td>\n",
       "      <td>1</td>\n",
       "    </tr>\n",
       "  </tbody>\n",
       "</table>\n",
       "<p>669 rows × 2 columns</p>\n",
       "</div>"
      ],
      "text/plain": [
       "                                                    text  label\n",
       "31     ���I ain���t drunk.��� ���Then you���re mad; t...      1\n",
       "49                           Mm. That tastes like balls.      0\n",
       "51     Do you fell better now  ready to put the pacif...      1\n",
       "61     Wow. What a hateful person you seem to be. I t...      1\n",
       "71     i'll be darn you wouldn't think that close tha...      0\n",
       "...                                                  ...    ...\n",
       "10829  Nobody in Anchorage wants to go to Fairbanks i...      0\n",
       "10847                           What an a$$hole you are.      1\n",
       "10875  Ironic is it not that those filthy  squalid  u...      0\n",
       "10894  If I were in the business I am speaking about ...      0\n",
       "10917  These are Ossoff's peeps.  He should embrace t...      1\n",
       "\n",
       "[669 rows x 2 columns]"
      ]
     },
     "execution_count": 65,
     "metadata": {},
     "output_type": "execute_result"
    }
   ],
   "source": [
    "test_df[[\"text\", \"label\"]].iloc[differing_indices]"
   ]
  },
  {
   "cell_type": "markdown",
   "metadata": {},
   "source": [
    "# BOW"
   ]
  },
  {
   "cell_type": "code",
   "execution_count": null,
   "metadata": {},
   "outputs": [
    {
     "data": {
      "text/html": [
       "<div>\n",
       "<style scoped>\n",
       "    .dataframe tbody tr th:only-of-type {\n",
       "        vertical-align: middle;\n",
       "    }\n",
       "\n",
       "    .dataframe tbody tr th {\n",
       "        vertical-align: top;\n",
       "    }\n",
       "\n",
       "    .dataframe thead th {\n",
       "        text-align: right;\n",
       "    }\n",
       "</style>\n",
       "<table border=\"1\" class=\"dataframe\">\n",
       "  <thead>\n",
       "    <tr style=\"text-align: right;\">\n",
       "      <th></th>\n",
       "      <th>Unnamed: 0</th>\n",
       "      <th>preds_w_best_thres</th>\n",
       "      <th>toxic_p</th>\n",
       "      <th>not_toxic_p</th>\n",
       "    </tr>\n",
       "  </thead>\n",
       "  <tbody>\n",
       "    <tr>\n",
       "      <th>0</th>\n",
       "      <td>0</td>\n",
       "      <td>False</td>\n",
       "      <td>0.407992</td>\n",
       "      <td>0.546016</td>\n",
       "    </tr>\n",
       "    <tr>\n",
       "      <th>1</th>\n",
       "      <td>1</td>\n",
       "      <td>False</td>\n",
       "      <td>0.629924</td>\n",
       "      <td>0.667783</td>\n",
       "    </tr>\n",
       "    <tr>\n",
       "      <th>2</th>\n",
       "      <td>2</td>\n",
       "      <td>False</td>\n",
       "      <td>0.671212</td>\n",
       "      <td>0.756170</td>\n",
       "    </tr>\n",
       "    <tr>\n",
       "      <th>3</th>\n",
       "      <td>3</td>\n",
       "      <td>True</td>\n",
       "      <td>0.531671</td>\n",
       "      <td>0.505281</td>\n",
       "    </tr>\n",
       "    <tr>\n",
       "      <th>4</th>\n",
       "      <td>4</td>\n",
       "      <td>True</td>\n",
       "      <td>0.596294</td>\n",
       "      <td>0.574915</td>\n",
       "    </tr>\n",
       "  </tbody>\n",
       "</table>\n",
       "</div>"
      ],
      "text/plain": [
       "   Unnamed: 0  preds_w_best_thres   toxic_p  not_toxic_p\n",
       "0           0               False  0.407992     0.546016\n",
       "1           1               False  0.629924     0.667783\n",
       "2           2               False  0.671212     0.756170\n",
       "3           3                True  0.531671     0.505281\n",
       "4           4                True  0.596294     0.574915"
      ]
     },
     "execution_count": 66,
     "metadata": {},
     "output_type": "execute_result"
    }
   ],
   "source": [
    "bow_train_pred_df = pd.read_csv(\"bow_train_results.csv\")\n",
    "bow_test_pred_df = pd.read_csv(\"bow_test_results.csv\")\n",
    "bow_train_pred_df.head()"
   ]
  },
  {
   "cell_type": "code",
   "execution_count": null,
   "metadata": {},
   "outputs": [],
   "source": [
    "bow_train_pred = bow_train_pred_df[\"preds_w_best_thres\"].tolist()\n",
    "bow_train_pred = [int(boolean) for boolean in bow_train_pred]\n",
    "bow_test_pred = bow_test_pred_df[\"preds_w_best_thres\"].tolist()\n",
    "bow_test_pred = [int(boolean) for boolean in bow_test_pred]"
   ]
  },
  {
   "cell_type": "code",
   "execution_count": null,
   "metadata": {},
   "outputs": [
    {
     "name": "stdout",
     "output_type": "stream",
     "text": [
      "Train accuracy: 0.8550707070707071\n",
      "Train precision: 0.7392141226936508\n",
      "Train recall: 0.8467886729454752\n",
      "Train F1 score: 0.7893531432598291\n"
     ]
    },
    {
     "data": {
      "image/png": "[encoded data removed]",
      "text/plain": [
       "<Figure size 432x288 with 2 Axes>"
      ]
     },
     "metadata": {
      "needs_background": "light"
     },
     "output_type": "display_data"
    }
   ],
   "source": [
    "bow_y_train = train_df['label'].tolist()\n",
    "\n",
    "print(\"Train accuracy:\", accuracy_score(bow_train_pred, bow_y_train))\n",
    "print(\"Train precision:\", precision_score(bow_train_pred, bow_y_train))\n",
    "print(\"Train recall:\", recall_score(bow_train_pred, bow_y_train))\n",
    "print(\"Train F1 score:\", f1_score(bow_train_pred, bow_y_train))\n",
    "conf_mat = confusion_matrix(bow_y_train, bow_train_pred)\n",
    "disp = ConfusionMatrixDisplay(confusion_matrix=conf_mat)\n",
    "disp.plot()\n",
    "plt.show()"
   ]
  },
  {
   "cell_type": "code",
   "execution_count": null,
   "metadata": {},
   "outputs": [
    {
     "name": "stdout",
     "output_type": "stream",
     "text": [
      "Test accuracy: 0.8321818181818181\n",
      "Test precision: 0.6983170057774428\n",
      "Test recall: 0.8116788321167884\n",
      "Test F1 score: 0.7507426411018093\n"
     ]
    },
    {
     "data": {
      "image/png": "[encoded data removed]",
      "text/plain": [
       "<Figure size 432x288 with 2 Axes>"
      ]
     },
     "metadata": {
      "needs_background": "light"
     },
     "output_type": "display_data"
    }
   ],
   "source": [
    "bow_y_test = test_df['label'].tolist()\n",
    "\n",
    "print(\"Test accuracy:\", accuracy_score(bow_test_pred, bow_y_test))\n",
    "print(\"Test precision:\", precision_score(bow_test_pred, bow_y_test))\n",
    "print(\"Test recall:\", recall_score(bow_test_pred, bow_y_test))\n",
    "print(\"Test F1 score:\", f1_score(bow_test_pred, bow_y_test))\n",
    "conf_mat = confusion_matrix(bow_y_test, bow_test_pred)\n",
    "disp = ConfusionMatrixDisplay(confusion_matrix=conf_mat)\n",
    "disp.plot()\n",
    "plt.show()"
   ]
  }
 ],
 "metadata": {
  "kernelspec": {
   "display_name": "Python 3",
   "language": "python",
   "name": "python3"
  },
  "language_info": {
   "codemirror_mode": {
    "name": "ipython",
    "version": 3
   },
   "file_extension": ".py",
   "mimetype": "text/x-python",
   "name": "python",
   "nbconvert_exporter": "python",
   "pygments_lexer": "ipython3",
   "version": "3.11.8"
  }
 },
 "nbformat": 4,
 "nbformat_minor": 2
}
